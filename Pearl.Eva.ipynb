{
 "cells": [
  {
   "cell_type": "markdown",
   "metadata": {},
   "source": [
    "**Import Necessary Libraries**\n",
    "\n",
    "In this step, I import the necessary libraries:\n",
    "\n",
    "pandas: For data manipulation and analysis.\n",
    "\n",
    "numpy: For numerical operations (even though I haven't directly used it here, it’s commonly used in data analysis).\n",
    "\n",
    "matplotlib and seaborn: For static data visualization (e.g., histograms, box plots, and heatmaps).\n",
    "\n",
    "plotly.express and plotly.graph_objects: For interactive visualizations (such as pie charts, scatter plots, and line charts)."
   ]
  },
  {
   "cell_type": "code",
   "execution_count": null,
   "metadata": {},
   "outputs": [],
   "source": [
    "\n",
    "import pandas as pd\n",
    "import numpy as np\n",
    "import matplotlib.pyplot as plt\n",
    "import seaborn as sns\n",
    "import plotly.express as px\n",
    "import plotly.graph_objects as go\n"
   ]
  },
  {
   "cell_type": "markdown",
   "metadata": {},
   "source": [
    " **Load the Dataset**\n",
    "\n",
    " I loaded the dataset using pandas’ read_csv() function. The file path points to the location of the dataset on my computer. This step assumes the dataset is in CSV format. If it were in a different format, I would adjust the loading method accordingly."
   ]
  },
  {
   "cell_type": "code",
   "execution_count": null,
   "metadata": {},
   "outputs": [],
   "source": [
    "# Load the dataset\n",
    "\n",
    "df = pd.read_csv('heart.csv')  # Assuming CSV format; adjust if necessary"
   ]
  },
  {
   "cell_type": "markdown",
   "metadata": {},
   "source": [
    "**Dataset Info**\n",
    "\n",
    "Using df.info(), I displayed a summary of the dataset. This provided the number of rows, the column names, and their data types. It also helps me quickly spot if there are any missing values."
   ]
  },
  {
   "cell_type": "code",
   "execution_count": null,
   "metadata": {},
   "outputs": [],
   "source": [
    "# Display general info about the dataset\n",
    "print(\"Dataset Info:\")\n",
    "print(df.info())"
   ]
  },
  {
   "cell_type": "markdown",
   "metadata": {},
   "source": [
    "**Descriptive Statistics**\n",
    "\n",
    "I used df.describe() to compute and display the basic statistics for the numerical columns in the dataset. This includes values like the mean, standard deviation, and the range (min, max), which gives me an idea of the distribution and spread of the data."
   ]
  },
  {
   "cell_type": "code",
   "execution_count": null,
   "metadata": {},
   "outputs": [],
   "source": [
    "# Display descriptive statistics\n",
    "print(\"\\nDescriptive Statistics:\")\n",
    "print(df.describe())"
   ]
  },
  {
   "cell_type": "markdown",
   "metadata": {},
   "source": [
    "**Check for Missing Values**\n",
    "\n",
    "To check for any missing values, I use df.isnull().sum(). This step will help me identify columns that might have missing data, so I can handle them appropriately, either by removing or imputing the missing values."
   ]
  },
  {
   "cell_type": "code",
   "execution_count": null,
   "metadata": {},
   "outputs": [],
   "source": [
    "# Check for missing values\n",
    "print(\"\\nMissing Values:\")\n",
    "print(df.isnull().sum())\n"
   ]
  },
  {
   "cell_type": "markdown",
   "metadata": {},
   "source": [
    "**Static Plot: Histogram of Age**\n",
    "\n",
    "I created an Histogram to visualize the distribution of the age column. By adding a Kernel Density Estimate (KDE) curve, I can better understand the probability distribution of the ages in the dataset. The histogram helps me assess whether the age distribution is skewed or normal."
   ]
  },
  {
   "cell_type": "code",
   "execution_count": null,
   "metadata": {},
   "outputs": [],
   "source": [
    "# 1. Histogram for the distribution of the 'age' column\n",
    "plt.figure(figsize=(10, 6))\n",
    "sns.histplot(df['age'], kde=True, color='skyblue')\n",
    "plt.title('Distribution of Age')\n",
    "plt.xlabel('Age')\n",
    "plt.ylabel('Frequency')\n",
    "plt.show()"
   ]
  },
  {
   "cell_type": "markdown",
   "metadata": {},
   "source": [
    " **Static Plot: Boxplot of Cholesterol Levels**\n",
    "\n",
    "  I uses a Boxplot to visualize the spread of cholesterol levels (chol). The boxplot allows me to detect potential outliers and gives me insight into the overall distribution of cholesterol values in the dataset."
   ]
  },
  {
   "cell_type": "code",
   "execution_count": null,
   "metadata": {},
   "outputs": [],
   "source": [
    "# 2. Boxplot to visualize outliers in 'chol' (cholesterol levels)\n",
    "plt.figure(figsize=(10, 6))\n",
    "sns.boxplot(x=df['chol'], color='lightgreen')\n",
    "plt.title('Boxplot of Cholesterol Levels')\n",
    "plt.xlabel('Cholesterol')\n",
    "plt.show()"
   ]
  },
  {
   "cell_type": "markdown",
   "metadata": {},
   "source": [
    "**Static Plot: Correlation Heatmap**\n",
    "\n",
    "I generated a Correlation Heatmap to explore relationships between key numerical variables like age, trestbps, chol, thalach, and oldpeak. The heatmap provides a visual representation of the correlations between these features, allowing me to identify strong or weak correlations."
   ]
  },
  {
   "cell_type": "code",
   "execution_count": null,
   "metadata": {},
   "outputs": [],
   "source": [
    "# 3. Correlation Heatmap (using 'age', 'trestbps', 'chol', 'thalach', 'oldpeak' as example columns)\n",
    "plt.figure(figsize=(12, 8))\n",
    "corr_matrix = df[['age', 'trestbps', 'chol', 'thalach', 'oldpeak']].corr()\n",
    "sns.heatmap(corr_matrix, annot=True, cmap='coolwarm', fmt='.2f', linewidths=0.5)\n",
    "plt.title('Correlation Heatmap of Selected Columns')\n",
    "plt.show()"
   ]
  },
  {
   "cell_type": "markdown",
   "metadata": {},
   "source": [
    "**Interactive Scatter Plot**\n",
    "\n",
    "I created an Interactive Scatter Plot to examine the relationship between age and thalach (maximum heart rate achieved). The points are color-coded based on the target variable to distinguish between those with and without heart disease. This helps me explore how age influences maximum heart rate, with heart disease as a differentiating factor."
   ]
  },
  {
   "cell_type": "code",
   "execution_count": null,
   "metadata": {},
   "outputs": [],
   "source": [
    "# 4. Interactive Scatter Plot to show the relationship between 'age' and 'thalach' (Maximum heart rate achieved)\n",
    "fig2 = px.scatter(df, x='age', y='thalach', color='target', title='Age vs Maximum Heart Rate (Thalach)',\n",
    "                  labels={'age': 'Age', 'thalach': 'Maximum Heart Rate (Thalach)', 'target': 'Heart Disease Present (0 = No, 1 = Yes)'})\n",
    "fig2.show()"
   ]
  },
  {
   "cell_type": "markdown",
   "metadata": {},
   "source": [
    "**Interactive Line Char**\n",
    "\n",
    "For the Interactive Line Chart, I first grouped the data by age and calculate the average thalach (maximum heart rate) for each age group. Then, I use Plotly to plot the relationship between age and the average maximum heart rate. This interactive chart allows me to analyze how maximum heart rate changes with age."
   ]
  },
  {
   "cell_type": "code",
   "execution_count": null,
   "metadata": {},
   "outputs": [],
   "source": [
    "# 5. Interactive Line Chart to show the trend of 'thalach' (Maximum heart rate achieved) over 'age'\n",
    "# For this, let's assume 'age' is continuous and we plot a line chart of the average 'thalach' by 'age' group.\n",
    "df_age_group = df.groupby('age').agg({'thalach': 'mean'}).reset_index()\n",
    "\n",
    "fig4 = px.line(df_age_group, x='age', y='thalach', title='Average Maximum Heart Rate (Thalach) by Age',\n",
    "               labels={'age': 'Age', 'thalach': 'Average Maximum Heart Rate (Thalach)'})\n",
    "fig4.show()\n"
   ]
  },
  {
   "cell_type": "code",
   "execution_count": null,
   "metadata": {},
   "outputs": [],
   "source": []
  },
  {
   "cell_type": "code",
   "execution_count": null,
   "metadata": {},
   "outputs": [],
   "source": []
  }
 ],
 "metadata": {
  "kernelspec": {
   "display_name": "Python 3 (ipykernel)",
   "language": "python",
   "name": "python3"
  },
  "language_info": {
   "codemirror_mode": {
    "name": "ipython",
    "version": 3
   },
   "file_extension": ".py",
   "mimetype": "text/x-python",
   "name": "python",
   "nbconvert_exporter": "python",
   "pygments_lexer": "ipython3",
   "version": "3.12.4"
  }
 },
 "nbformat": 4,
 "nbformat_minor": 4
}
